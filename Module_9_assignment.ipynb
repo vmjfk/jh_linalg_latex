{
 "cells": [
  {
   "cell_type": "code",
   "execution_count": 1,
   "id": "ac04318a-7d9c-46a5-b7ac-286fcb562a19",
   "metadata": {},
   "outputs": [],
   "source": [
    "import pandas as pd\n"
   ]
  },
  {
   "cell_type": "markdown",
   "id": "e8d3c32a-2661-43d1-9305-d3065d2b7cf5",
   "metadata": {},
   "source": [
    "# 1.a) \n",
    "\n",
    "$A = \\begin{bmatrix} 1 & 2 \\\\ 0 & 1 \\end{bmatrix}$\n",
    "\n",
    "$A - \\lambda I = \\begin{bmatrix} 1-\\lambda & 2 \\\\ 0 & 1-\\lambda \\end{bmatrix}$\n",
    "\n",
    "Characteristic Polynomial = $(1-\\lambda)^2 -0 $ \n",
    "\n",
    "$\\lambda = 1$, dimensionality of 2. \n",
    "\n",
    "$\\begin{bmatrix} 1 & 2 \\\\ 0 & 1 \\end{bmatrix} - I = \\begin{bmatrix} 0 & 2 \\\\ 0 & 0 \\end{bmatrix}$\n",
    "\n",
    "Since this does not yield linearly independent vectors, $A$ is not diagonalizable\n",
    "    "
   ]
  },
  {
   "cell_type": "markdown",
   "id": "8d389861-3e23-466e-874f-25de0ab48794",
   "metadata": {},
   "source": [
    "# 1.b) \n",
    "$A = \\begin{bmatrix} 0 & -2 \\\\ 1 & 3 \\end{bmatrix}$\n",
    "\n",
    "$A - \\lambda I = \\begin{bmatrix} -\\lambda & -2 \\\\ 1 & 3-\\lambda \\end{bmatrix}$ \n",
    "\n",
    "Characteristic Polynomial = $-\\lambda(3-\\lambda) + 2 = \\lambda^2 -3\\lambda +2 = (\\lambda - 1)(\\lambda -2) $ \n",
    "\n",
    "$\\lambda = \\{1,2\\}$ \n",
    "\n",
    "$ A - \\begin{bmatrix} 1 & 0 \\\\ 0 & 1 \\end{bmatrix} = \\begin{bmatrix} -1 & -2 \\\\ 1 & 2 \\end{bmatrix} \\sim \\begin{bmatrix} 1 & 2 \\\\ 0 & 0 \\end{bmatrix} eigenvector = \\begin{bmatrix} -2 \\\\ 1 \\end{bmatrix} $ \n",
    "\n",
    "$ A - \\begin{bmatrix} 2 & 0 \\\\ 0 & 2 \\end{bmatrix} = \\begin{bmatrix} -2 & -2 \\\\ 1 & 1 \\end{bmatrix} \\sim \\begin{bmatrix} 1 & 1 \\\\ 0 & 0 \\end{bmatrix} eigenvector = \\begin{bmatrix} -1 \\\\ 1 \\end{bmatrix} $ \n",
    "\n",
    "$ P = \\begin{bmatrix} -2 & -1 \\\\ 1 & 1 \\end{bmatrix} $ \n",
    "\n",
    "$ D = \\begin{bmatrix} 1 & 0 \\\\ 0 & 2 \\end{bmatrix} $ \n",
    "\n",
    "$ P^-1 = \\begin{bmatrix} -1 & -1 \\\\ 1 & 2 \\end{bmatrix} $ \n",
    "\n",
    "$ PDP^-1 = \\begin{bmatrix} -2 & -1 \\\\ 1 & 1 \\end{bmatrix}\\begin{bmatrix} 1 & 0 \\\\ 0 & 2 \\end{bmatrix}\\begin{bmatrix} -1 & -1 \\\\ 1 & 2 \\end{bmatrix} = \\begin{bmatrix} -2 & -1 \\\\ 1 & 1 \\end{bmatrix} \\begin{bmatrix}  -1 & -1  \\\\ 2  & 4  \\end{bmatrix} = \\begin{bmatrix} 0 & -2 \\\\ 1 & 3 \\end{bmatrix}$"
   ]
  },
  {
   "cell_type": "markdown",
   "id": "fbde3583-c9de-4b47-976c-f6ad19e85acd",
   "metadata": {},
   "source": [
    "# 1.c) \n",
    "\n",
    "$ A = \\begin{bmatrix} 0 & 0 & 1 \\\\ 1 & 0 & -1 \\\\ 0 & 1 & 1 \\end{bmatrix} $ \n",
    "\n",
    "$ A - \\lambda I = \\begin{bmatrix}  - \\lambda & 0 & 1 \\\\ 1 & - \\lambda & -1 \\\\ 0 & 1 & 1 - \\lambda \\end{bmatrix} $\n",
    "\n",
    "det$(A) =  -\\lambda * [ -\\lambda(1 - \\lambda)+1 ] + 1  = -\\lambda^3 + \\lambda^2 - \\lambda + 1  $\n",
    "\n",
    "Characteristic Polynomial = $  -(\\lambda - 1)(\\lambda^2 + 1) $ \n",
    "\n",
    "$ \\lambda = \\{1, i , -i\\} $\n",
    "\n",
    "$ For \\lambda = 1, \\begin{bmatrix} 0 & 0 & 1 \\\\ 1 & 0 & -1 \\\\ 0 & 1 & 1  \\end{bmatrix} -  \\begin{bmatrix} 1 & 0 & 0 \\\\ 0 & 1 & 0 \\\\ 0 & 0 & 1\\end{bmatrix} =  \\begin{bmatrix} -1 & 0 & 1 \\\\ 1 & -1 & -1 \\\\ 0 & 1 & 0  \\end{bmatrix} \\sim \\begin{bmatrix} -1 & 0 & 1 \\\\ 0 & 1 & 0 \\\\ 0 & 0 & 0  \\end{bmatrix} General Solution = \\begin{bmatrix} 1 \\\\ 0 \\\\ 1\\end{bmatrix} $ \n",
    "\n",
    "$ For \\lambda = i, \\begin{bmatrix} 0 & 0 & 1 \\\\ 1 & 0 & -1 \\\\ 0 & 1 & 1  \\end{bmatrix} -  \\begin{bmatrix} i & 0 & 0 \\\\ 0 & i & 0 \\\\ 0 & 0 & i \\end{bmatrix} =  \\begin{bmatrix} -i & 0 & 1 \\\\ 1 & -i & -1 \\\\ 0 & 1 & 1-i  \\end{bmatrix} \\sim \\begin{bmatrix} 1 & 0 & i \\\\ 0 & 1 & 1-i \\\\ 0 & 0 & 0  \\end{bmatrix} General Solution = \\begin{bmatrix} -i \\\\ -1 + i \\\\ 1 \\end{bmatrix} $ \n",
    "\n",
    "$ For \\lambda = -i, \\begin{bmatrix} 0 & 0 & 1 \\\\ 1 & 0 & -1 \\\\ 0 & 1 & 1  \\end{bmatrix} -  \\begin{bmatrix} -i & 0 & 0 \\\\ 0 & -i & 0 \\\\ 0 & 0 & -i\\end{bmatrix} =  \\begin{bmatrix} i & 0 & 1 \\\\ 1 & i & -1 \\\\ 0 & 1 & 1+i  \\end{bmatrix} \\sim \\begin{bmatrix} 1 & 0 & -i \\\\ 0 & 1 & 1+i \\\\ 0 & 0 & 0  \\end{bmatrix} General Solution = \\begin{bmatrix} i \\\\ -1-i \\\\ 1 \\end{bmatrix} $ \n",
    "\n",
    "$ P = \\begin{bmatrix} 1 & -i & i \\\\ 0 & -1 + i & -1 - i \\\\ 1 & 1 & -1 \\end{bmatrix} $\n",
    "\n",
    "$ D = \\begin{bmatrix} 1 & 0 & 0 \\\\ 0 & i & 0 \\\\ 0 & 0 & -i \\end{bmatrix} $\n",
    "\n",
    "$ P^-1 = \\begin{bmatrix} 1/2 & 1/2 & 1/2 \\\\ (-1+i)/4 & (-1-i)/4 & (1-i)/4 \\\\ (-1-i)/4 & (-1+i)/4 & (1-i)/4 \\end{bmatrix} $\n",
    "\n",
    "$ PDP^-1 =  \\begin{bmatrix} 1 & -i & i \\\\ 0 & -1 + i & -1 - i \\\\ 1 & 1 & -1 \\end{bmatrix} \\begin{bmatrix} 1 & 0 & 0 \\\\ 0 & i & 0 \\\\ 0 & 0 & -i \\end{bmatrix} \\begin{bmatrix} 1/2 & 1/2 & 1/2 \\\\ (-1+i)/4 & (-1-i)/4 & (1-i)/4 \\\\ (-1-i)/4 & (-1+i)/4 & (1-i)/4 \\end{bmatrix} = \\begin{bmatrix} 1 & -i & i \\\\ 0 & -1 + i & -1 - i \\\\ 1 & 1 & -1 \\end{bmatrix} \\begin{bmatrix} 1/2 & 1/2 & 1/2 \\\\ (-1-i)/4 & (1-i)/4 & (1+i)/4 \\\\ (-1+i)/4 & (1+i)/4 & (1-i)/4 \\end{bmatrix} = $ \n",
    "\n",
    "$\\begin{bmatrix} 0 & 0 & 1 \\\\ 1 & 0 & -1 \\\\ 0 & 1 & 1 \\end{bmatrix} $\n",
    "\n"
   ]
  },
  {
   "cell_type": "markdown",
   "id": "680faa9a-33fd-4f6c-a1e8-32d09f4252db",
   "metadata": {},
   "source": [
    "# 1.d) \n",
    "\n",
    "$ A = \\begin{bmatrix} 3 & 1 & 1 \\\\ 2 & 4 & 2 \\\\ -1 & -1 & 1 \\end{bmatrix} $ \n",
    "\n",
    "$ A - \\lambda I = \\begin{bmatrix} 3 - \\lambda & 1 & 1 \\\\ 2 & 4 - \\lambda & 2 \\\\ -1 & -1 & 1 - \\lambda \\end{bmatrix}  $\n",
    "\n",
    "$ det (A) =  (3-\\lambda)[(4-\\lambda)(1-\\lambda) + 2] $ \n",
    "\n",
    "$ - (1)[2(1-\\lambda) + 2] $\n",
    "\n",
    "$ + [ -2 +4 - \\lambda] = $\n",
    "$ -\\lambda^3 + 8\\lambda^2 - 20\\lambda + 16 $\n",
    "\n",
    "\n",
    "Characteristic Polynomial = $ (2-\\lambda)(\\lambda - 2)(\\lambda - 4) = 0 $ \n",
    "\n",
    "$ \\lambda = \\{2 ,2 ,4\\} $\n",
    "\n",
    "$ For \\lambda = 2, \\begin{bmatrix} 3 & 1 & 1 \\\\ 2 & 4 & 2 \\\\ -1 & -1 & 1 \\end{bmatrix} -  \\begin{bmatrix} 2 & 0 & 0 \\\\ 0 & 2 & 0 \\\\ 0 & 0 & 2\\end{bmatrix} =  \\begin{bmatrix} 1 & 1 & 1 \\\\ 2 & 2 & 2 \\\\ -1 & -1 & -1  \\end{bmatrix} \\sim \\begin{bmatrix} 1 & 1 & 1 \\\\ 0 & 0 & 0 \\\\ 0 & 0 & 0  \\end{bmatrix} General Solution = x_1 = x_2 \\begin{bmatrix} -1 \\\\ 1 \\\\ 0 \\end{bmatrix} + x_3 \\begin{bmatrix} -1 \\\\ 0 \\\\ 1\\end{bmatrix} $ \n",
    "\n",
    "$ For \\lambda = 4,\\begin{bmatrix} 3 & 1 & 1 \\\\ 2 & 4 & 2 \\\\ -1 & -1 & 1 \\end{bmatrix} -  \\begin{bmatrix} 4 & 0 & 0 \\\\ 0 & 4 & 0 \\\\ 0 & 0 & 4 \\end{bmatrix} = \\begin{bmatrix} -1 & 1 & 1 \\\\ 2 & 0 & 2 \\\\ -1 & -1 & -3 \\end{bmatrix} \\sim \\begin{bmatrix} 1 & 0 & 1 \\\\ 0 & 1 & 2 \\\\ 0 & 0 & 0  \\end{bmatrix} General Solution =  + x_3 \\begin{bmatrix} -1 \\\\ -2 \\\\ 1 \\end{bmatrix} $ $ \n",
    "\n",
    "$ P = \\begin{bmatrix} -1 & -1 & -1 \\\\ 1 & 0 & -2  \\\\ 0 & 1 & 1 \\end{bmatrix} $\n",
    "\n",
    "$ D = \\begin{bmatrix} 2 & 0 & 0 \\\\ 0 & 2 & 0 \\\\ 0 & 0 & 4 \\end{bmatrix} $\n",
    "\n",
    "$ P^-1 = \\begin{bmatrix} -1 & 0 & -1 \\\\ 1/2 & 1/2 & 3/2 \\\\ -1/2 & -1/2 & -1/2  \\end{bmatrix} $\n",
    "\n",
    "$ PDP^-1 = \\begin{bmatrix} -1 & -1 & -1 \\\\ 1 & 0 & -2  \\\\ 0 & 1 & 1 \\end{bmatrix}\\begin{bmatrix} 2 & 0 & 0 \\\\ 0 & 2 & 0 \\\\ 0 & 0 & 4 \\end{bmatrix}\\begin{bmatrix} -1 & 0 & -1 \\\\ 1/2 & 1/2 & 3/2 \\\\ -1/2 & -1/2 & -1/2  \\end{bmatrix} = \\begin{bmatrix} -1 & -1 & -1 \\\\ 1 & 0 & -2  \\\\ 0 & 1 & 1 \\end{bmatrix} \\begin{bmatrix} -2 & 0 & -2 \\\\ 1 & 1 & 3 \\\\ -2 & -2 & -2 \\end{bmatrix} $ \n",
    "\n",
    "$ = \\begin{bmatrix} 3 & 1 & 1 \\\\ 1 & 0 & -2 \\\\ 0 & 1 & 1 \\end{bmatrix} $\n",
    "\n"
   ]
  },
  {
   "cell_type": "markdown",
   "id": "79347c75-4d13-4baf-82c7-47133f88692f",
   "metadata": {},
   "source": [
    "# 2 \n",
    "$ A = \\begin{bmatrix} 0 & -2 \\\\ 1 & 3 \\end{bmatrix} $ find general expression for $ A^n $\n",
    "\n",
    "$A - \\lambda I = \\begin{bmatrix} -\\lambda & -2 \\\\ 1 & 3-\\lambda \\end{bmatrix}$ \n",
    "\n",
    "Characteristic Polynomial = $-\\lambda(3-\\lambda) + 2 = \\lambda^2 -3\\lambda +2 = (\\lambda - 1)(\\lambda -2) $ \n",
    "\n",
    "$\\lambda = \\{1,2\\}$ \n",
    "\n",
    "$ A - \\begin{bmatrix} 1 & 0 \\\\ 0 & 1 \\end{bmatrix} = \\begin{bmatrix} -1 & -2 \\\\ 1 & 2 \\end{bmatrix} \\sim \\begin{bmatrix} 1 & 2 \\\\ 0 & 0 \\end{bmatrix} eigenvector = \\begin{bmatrix} -2 \\\\ 1 \\end{bmatrix} $ \n",
    "\n",
    "$ A - \\begin{bmatrix} 2 & 0 \\\\ 0 & 2 \\end{bmatrix} = \\begin{bmatrix} -2 & -2 \\\\ 1 & 1 \\end{bmatrix} \\sim \\begin{bmatrix} 1 & 1 \\\\ 0 & 0 \\end{bmatrix} eigenvector = \\begin{bmatrix} -1 \\\\ 1 \\end{bmatrix} $ \n",
    "\n",
    "$ P = \\begin{bmatrix} -2 & -1 \\\\ 1 & 1 \\end{bmatrix} $ \n",
    "\n",
    "$ D = \\begin{bmatrix} 1 & 0 \\\\ 0 & 2 \\end{bmatrix} $ \n",
    "\n",
    "$ P^-1 = \\begin{bmatrix} -1 & -1 \\\\ 1 & 2 \\end{bmatrix} $ \n",
    "\n",
    "$ PDP^-1 = \\begin{bmatrix} -2 & -1 \\\\ 1 & 1 \\end{bmatrix}\\begin{bmatrix} 1 & 0 \\\\ 0 & 2 \\end{bmatrix}\\begin{bmatrix} -1 & -1 \\\\ 1 & 2 \\end{bmatrix} = \\begin{bmatrix} -2 & -1 \\\\ 1 & 1 \\end{bmatrix} \\begin{bmatrix}  -1 & -1  \\\\ 2  & 4  \\end{bmatrix} = \\begin{bmatrix} 0 & -2 \\\\ 1 & 3 \\end{bmatrix}$\n",
    "\n",
    "Therefor the General expression for $ A^n = \\begin{bmatrix} -2 & -1 \\\\ 1 & 1 \\end{bmatrix}\\begin{bmatrix} 1^n & 0 \\\\ 0 & 2^n \\end{bmatrix}\\begin{bmatrix} -1 & -1 \\\\ 1 & 2 \\end{bmatrix} $ "
   ]
  },
  {
   "cell_type": "markdown",
   "id": "4e247016-36c2-4623-bac6-2b5397acf284",
   "metadata": {},
   "source": [
    "# 3\n",
    "$ A = \\begin{bmatrix} 0 & -2 \\\\ 1 & 3 \\end{bmatrix} $ \n",
    "\n",
    "Find a basis $\\beta$ for $\\mathbb{R}^2$ such that matrix of T relative to $\\beta$ is diagonal \n"
   ]
  },
  {
   "cell_type": "markdown",
   "id": "9e08b164-39fa-4996-9eaf-1e10cb428ac5",
   "metadata": {},
   "source": [
    "# 4\n",
    "$ A = \\begin{bmatrix} 1 & -1 \\\\ 9 & 1 \\end{bmatrix} $ \n",
    "\n",
    "Find $P $ and a matrix $C = \\begin{bmatrix} a & -b \\\\ b & a \\end{bmatrix} $ such that $ A = PCP^-1 $\n",
    "\n",
    "Characteristic equation of $ A = (1 - \\lambda)(1 - \\lambda) + 9 = 10 -2\\lambda + \\lambda^2 $\n",
    "\n",
    "$ \\frac{- (-2) \\frac{+}{-} \\sqrt{-2^2 - 4(1)10} }{2} = 1 \\frac{+}{-} 3i $\n",
    "\n",
    "$ \\lambda = \\{1 - 3i, 1 + 3i\\} $\n",
    "\n",
    "$ C = \\begin{bmatrix} 1 & -3 \\\\ 3 & 1 \\end{bmatrix} $\n",
    "\n",
    "$ For \\lambda = 1 - 3i $\n",
    "\n",
    "$ A - \\lambda I = \\begin{bmatrix} 1 & -1 \\\\ 9 & 1 \\end{bmatrix} - \\begin{bmatrix} 1 - 3i & 0 \\\\ 0 & 1 - 3i \\end{bmatrix} = \\begin{bmatrix} 3i & -1 \\\\ 9 & 3i \\end{bmatrix} \\sim \\begin{bmatrix} 3i & -1 \\\\ 0 & 0 \\end{bmatrix}$\n",
    "\n",
    "General solution: $x_1 = x_2\\begin{bmatrix} \\frac{-i}{3} \\\\ 1 \\end{bmatrix} $\n",
    "\n",
    "$ P = \\begin{bmatrix} 0 & \\frac{-1}3 \\\\ 1 & 0 \\end{bmatrix} $\n",
    "\n",
    "$ P^-1 =  \\begin{bmatrix} 0 & 1 \\\\ -3 & 0  \\end{bmatrix} $\n",
    "\n",
    "$ PCP^-1 = \\begin{bmatrix} 0 & \\frac{-1}3 \\\\ 1 & 0 \\end{bmatrix}\\begin{bmatrix} 1 & -3 \\\\ 3 & 1 \\end{bmatrix}\\begin{bmatrix} 0 & 1 \\\\ -3 & 0  \\end{bmatrix} = \\begin{bmatrix} 0 & \\frac{-1}3 \\\\ 1 & 0 \\end{bmatrix} \\begin{bmatrix} 9 & 1 \\\\ -3 & 3 \\end{bmatrix} = \\begin{bmatrix} 1 & -1 \\\\ 9 & 1 \\end{bmatrix} $"
   ]
  },
  {
   "cell_type": "code",
   "execution_count": null,
   "id": "8324609c-713e-4cce-919d-2d4e491a1375",
   "metadata": {},
   "outputs": [],
   "source": []
  }
 ],
 "metadata": {
  "kernelspec": {
   "display_name": "Python 3 (ipykernel)",
   "language": "python",
   "name": "python3"
  },
  "language_info": {
   "codemirror_mode": {
    "name": "ipython",
    "version": 3
   },
   "file_extension": ".py",
   "mimetype": "text/x-python",
   "name": "python",
   "nbconvert_exporter": "python",
   "pygments_lexer": "ipython3",
   "version": "3.10.12"
  }
 },
 "nbformat": 4,
 "nbformat_minor": 5
}
